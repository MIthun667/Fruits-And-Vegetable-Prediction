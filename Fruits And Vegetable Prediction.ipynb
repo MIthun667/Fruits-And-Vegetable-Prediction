{
  "nbformat": 4,
  "nbformat_minor": 0,
  "metadata": {
    "colab": {
      "provenance": []
    },
    "kernelspec": {
      "name": "python3",
      "display_name": "Python 3"
    },
    "language_info": {
      "name": "python"
    },
    "accelerator": "GPU",
    "gpuClass": "standard"
  },
  "cells": [
    {
      "cell_type": "code",
      "execution_count": null,
      "metadata": {
        "id": "HUAp_7PORZ1A"
      },
      "outputs": [],
      "source": [
        "!mkdir -p ~/.kaggle\n",
        "!cp kaggle.json ~/.kaggle/"
      ]
    },
    {
      "cell_type": "code",
      "source": [
        "!kaggle datasets download -d kritikseth/fruit-and-vegetable-image-recognition"
      ],
      "metadata": {
        "colab": {
          "base_uri": "https://localhost:8080/"
        },
        "id": "NNYNMNo-RpQ3",
        "outputId": "040cf29f-d0d8-4112-8840-ec6f732c7329"
      },
      "execution_count": null,
      "outputs": [
        {
          "output_type": "stream",
          "name": "stdout",
          "text": [
            "Warning: Your Kaggle API key is readable by other users on this system! To fix this, you can run 'chmod 600 /root/.kaggle/kaggle.json'\n",
            "Downloading fruit-and-vegetable-image-recognition.zip to /content\n",
            "100% 1.98G/1.98G [01:28<00:00, 23.4MB/s]\n",
            "100% 1.98G/1.98G [01:28<00:00, 24.1MB/s]\n"
          ]
        }
      ]
    },
    {
      "cell_type": "code",
      "source": [
        "import zipfile\n",
        "zip_ref = zipfile.ZipFile('/content/fruit-and-vegetable-image-recognition.zip', 'r')\n",
        "zip_ref.extractall('/content')\n",
        "zip_ref.close()"
      ],
      "metadata": {
        "id": "_TOV74D6Rsc2"
      },
      "execution_count": null,
      "outputs": []
    },
    {
      "cell_type": "code",
      "source": [
        "import tensorflow as tf\n",
        "from tensorflow import keras\n",
        "from keras import Sequential\n",
        "from keras.layers import Dense,Conv2D,MaxPooling2D,Flatten"
      ],
      "metadata": {
        "id": "TunYCIBHSqKl"
      },
      "execution_count": null,
      "outputs": []
    },
    {
      "cell_type": "code",
      "source": [
        "train_datagen = tf.keras.preprocessing.image_dataset_from_directory(\n",
        "                                                '/content/train',\n",
        "                                                labels=\"inferred\",\n",
        "                                                label_mode=\"int\",\n",
        "                                                color_mode=\"rgb\",\n",
        "                                                batch_size=32,\n",
        "                                                image_size=(256, 256))\n",
        "test_datagen = tf.keras.preprocessing.image_dataset_from_directory(\n",
        "                                                '/content/test',\n",
        "                                                labels=\"inferred\",\n",
        "                                                label_mode=\"int\",\n",
        "                                                color_mode=\"rgb\",\n",
        "                                                batch_size=32,\n",
        "                                                image_size=(256, 256))"
      ],
      "metadata": {
        "colab": {
          "base_uri": "https://localhost:8080/"
        },
        "id": "jZva00wPXzEX",
        "outputId": "7f4ffcae-482c-4e64-a002-4fc156ba3e47"
      },
      "execution_count": null,
      "outputs": [
        {
          "output_type": "stream",
          "name": "stdout",
          "text": [
            "Found 3115 files belonging to 36 classes.\n",
            "Found 359 files belonging to 36 classes.\n"
          ]
        }
      ]
    },
    {
      "cell_type": "code",
      "source": [
        "def image_processor(image,label):\n",
        "  image = tf.cast(image/255.,tf.float32)\n",
        "  return image,label\n",
        "\n",
        "train_datagen = train_datagen.map(image_processor)\n",
        "test_datagen = test_datagen.map(image_processor)"
      ],
      "metadata": {
        "id": "Ge89NKxfX_Q2"
      },
      "execution_count": null,
      "outputs": []
    },
    {
      "cell_type": "code",
      "source": [
        "model = Sequential()\n",
        "model.add(Conv2D(32,(3,3),activation='relu',input_shape=(256,256,3)))\n",
        "model.add(MaxPooling2D(pool_size=(2,2),strides=2))\n",
        "\n",
        "model.add(Conv2D(64,(3,3),activation='relu'))\n",
        "model.add(MaxPooling2D(pool_size=(2,2),strides=2))\n",
        "\n",
        "model.add(Conv2D(128,(3,3),activation='relu'))\n",
        "model.add(MaxPooling2D(pool_size=(2,2),strides=2))\n",
        "\n",
        "model.add(Flatten())\n",
        "model.add(Dense(128,activation='relu'))\n",
        "model.add(Dense(64,activation='relu'))\n",
        "model.add(Dense(36,activation='softmax'))"
      ],
      "metadata": {
        "id": "0IHdyO99YGqu"
      },
      "execution_count": null,
      "outputs": []
    },
    {
      "cell_type": "code",
      "source": [
        "model.summary()"
      ],
      "metadata": {
        "colab": {
          "base_uri": "https://localhost:8080/"
        },
        "id": "cauHid5xYMzW",
        "outputId": "918c1207-e2a7-4a86-e26d-f4f3c58f9e3f"
      },
      "execution_count": null,
      "outputs": [
        {
          "output_type": "stream",
          "name": "stdout",
          "text": [
            "Model: \"sequential\"\n",
            "_________________________________________________________________\n",
            " Layer (type)                Output Shape              Param #   \n",
            "=================================================================\n",
            " conv2d (Conv2D)             (None, 254, 254, 32)      896       \n",
            "                                                                 \n",
            " max_pooling2d (MaxPooling2D  (None, 127, 127, 32)     0         \n",
            " )                                                               \n",
            "                                                                 \n",
            " conv2d_1 (Conv2D)           (None, 125, 125, 64)      18496     \n",
            "                                                                 \n",
            " max_pooling2d_1 (MaxPooling  (None, 62, 62, 64)       0         \n",
            " 2D)                                                             \n",
            "                                                                 \n",
            " conv2d_2 (Conv2D)           (None, 60, 60, 128)       73856     \n",
            "                                                                 \n",
            " max_pooling2d_2 (MaxPooling  (None, 30, 30, 128)      0         \n",
            " 2D)                                                             \n",
            "                                                                 \n",
            " flatten (Flatten)           (None, 115200)            0         \n",
            "                                                                 \n",
            " dense (Dense)               (None, 128)               14745728  \n",
            "                                                                 \n",
            " dense_1 (Dense)             (None, 64)                8256      \n",
            "                                                                 \n",
            " dense_2 (Dense)             (None, 36)                2340      \n",
            "                                                                 \n",
            "=================================================================\n",
            "Total params: 14,849,572\n",
            "Trainable params: 14,849,572\n",
            "Non-trainable params: 0\n",
            "_________________________________________________________________\n"
          ]
        }
      ]
    },
    {
      "cell_type": "code",
      "source": [
        "model.compile(optimizer='adam',\n",
        "              loss='sparse_categorical_crossentropy',\n",
        "              metrics = ['accuracy']\n",
        "              )"
      ],
      "metadata": {
        "id": "hcfxaDo1YRP1"
      },
      "execution_count": null,
      "outputs": []
    },
    {
      "cell_type": "code",
      "source": [
        "history = model.fit(train_datagen,epochs=15,validation_data=test_datagen,batch_size=32)"
      ],
      "metadata": {
        "colab": {
          "base_uri": "https://localhost:8080/"
        },
        "id": "977n5uKwYXPD",
        "outputId": "419ea096-3704-4941-92de-5eced583b2a4"
      },
      "execution_count": null,
      "outputs": [
        {
          "output_type": "stream",
          "name": "stdout",
          "text": [
            "Epoch 1/15\n",
            "98/98 [==============================] - 65s 620ms/step - loss: 0.9887 - accuracy: 0.7085 - val_loss: 0.6340 - val_accuracy: 0.8607\n",
            "Epoch 2/15\n",
            "98/98 [==============================] - 70s 653ms/step - loss: 0.6147 - accuracy: 0.8209 - val_loss: 0.6029 - val_accuracy: 0.8886\n",
            "Epoch 3/15\n",
            "98/98 [==============================] - 67s 639ms/step - loss: 0.4207 - accuracy: 0.8796 - val_loss: 0.5731 - val_accuracy: 0.9081\n",
            "Epoch 4/15\n",
            "98/98 [==============================] - 66s 622ms/step - loss: 0.3008 - accuracy: 0.9169 - val_loss: 0.5024 - val_accuracy: 0.9220\n",
            "Epoch 5/15\n",
            "98/98 [==============================] - 68s 638ms/step - loss: 0.2740 - accuracy: 0.9316 - val_loss: 0.4280 - val_accuracy: 0.9499\n",
            "Epoch 6/15\n",
            "98/98 [==============================] - 67s 642ms/step - loss: 0.1783 - accuracy: 0.9499 - val_loss: 0.4829 - val_accuracy: 0.9331\n",
            "Epoch 7/15\n",
            "98/98 [==============================] - 67s 636ms/step - loss: 0.1465 - accuracy: 0.9621 - val_loss: 0.3531 - val_accuracy: 0.9443\n",
            "Epoch 8/15\n",
            "98/98 [==============================] - 65s 614ms/step - loss: 0.0981 - accuracy: 0.9775 - val_loss: 0.3659 - val_accuracy: 0.9582\n",
            "Epoch 9/15\n",
            "98/98 [==============================] - 65s 619ms/step - loss: 0.0904 - accuracy: 0.9737 - val_loss: 0.4066 - val_accuracy: 0.9582\n",
            "Epoch 10/15\n",
            "98/98 [==============================] - 65s 619ms/step - loss: 0.0747 - accuracy: 0.9807 - val_loss: 0.3051 - val_accuracy: 0.9554\n",
            "Epoch 11/15\n",
            "98/98 [==============================] - 67s 637ms/step - loss: 0.0441 - accuracy: 0.9888 - val_loss: 0.2677 - val_accuracy: 0.9526\n",
            "Epoch 12/15\n",
            "98/98 [==============================] - 67s 630ms/step - loss: 0.0476 - accuracy: 0.9875 - val_loss: 0.2723 - val_accuracy: 0.9610\n",
            "Epoch 13/15\n",
            "98/98 [==============================] - 65s 616ms/step - loss: 0.0383 - accuracy: 0.9891 - val_loss: 0.2602 - val_accuracy: 0.9582\n",
            "Epoch 14/15\n",
            "98/98 [==============================] - 66s 618ms/step - loss: 0.0350 - accuracy: 0.9875 - val_loss: 0.2629 - val_accuracy: 0.9582\n",
            "Epoch 15/15\n",
            "98/98 [==============================] - 65s 608ms/step - loss: 0.0392 - accuracy: 0.9878 - val_loss: 0.2357 - val_accuracy: 0.9582\n"
          ]
        }
      ]
    },
    {
      "cell_type": "code",
      "source": [
        "import matplotlib.pyplot as plt\n",
        "plt.plot(history.history['accuracy'],label=\"Training\")\n",
        "plt.plot(history.history['val_accuracy'], label=\"Test\")\n",
        "plt.legend()\n",
        "plt.show()"
      ],
      "metadata": {
        "colab": {
          "base_uri": "https://localhost:8080/",
          "height": 267
        },
        "id": "3TSmcGV8YmMV",
        "outputId": "d37831ae-8bef-4e93-e55d-b71c548b85e1"
      },
      "execution_count": null,
      "outputs": [
        {
          "output_type": "display_data",
          "data": {
            "text/plain": [
              "<Figure size 432x288 with 1 Axes>"
            ],
            "image/png": "[encoded data removed]"
          },
          "metadata": {
            "needs_background": "light"
          }
        }
      ]
    },
    {
      "cell_type": "code",
      "source": [
        "plt.plot(history.history['loss'],label=\"Training\")\n",
        "plt.plot(history.history['val_loss'], label=\"Test\")\n",
        "plt.legend()\n",
        "plt.show()"
      ],
      "metadata": {
        "colab": {
          "base_uri": "https://localhost:8080/",
          "height": 265
        },
        "id": "hkfhM5uXY5tU",
        "outputId": "44df269a-60ca-47ad-f050-edc9cdd5a8cb"
      },
      "execution_count": null,
      "outputs": [
        {
          "output_type": "display_data",
          "data": {
            "text/plain": [
              "<Figure size 432x288 with 1 Axes>"
            ],
            "image/png": "[encoded data removed]"
          },
          "metadata": {
            "needs_background": "light"
          }
        }
      ]
    },
    {
      "cell_type": "code",
      "source": [],
      "metadata": {
        "id": "VwcdKq2MdnSH"
      },
      "execution_count": null,
      "outputs": []
    }
  ]
}
